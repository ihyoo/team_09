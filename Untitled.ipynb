{
 "cells": [
  {
   "cell_type": "code",
   "execution_count": 1,
   "id": "9cd25d21-ba99-4d11-a560-e2981d910ad1",
   "metadata": {},
   "outputs": [
    {
     "data": {
      "text/plain": [
       "'C:\\\\Users\\\\umsh2\\\\team_09'"
      ]
     },
     "execution_count": 1,
     "metadata": {},
     "output_type": "execute_result"
    }
   ],
   "source": [
    "import os\n",
    "os.getcwd()"
   ]
  },
  {
   "cell_type": "code",
   "execution_count": 2,
   "id": "84efbc51-72ef-4e8e-80da-bc44345635f5",
   "metadata": {},
   "outputs": [
    {
     "name": "stdout",
     "output_type": "stream",
     "text": [
      "On branch uda\n",
      "Changes not staged for commit:\n",
      "  (use \"git add <file>...\" to update what will be committed)\n",
      "  (use \"git restore <file>...\" to discard changes in working directory)\n",
      "\tmodified:   \"01.code/RAG \\354\\275\\224\\353\\223\\234 commit v1.ipynb\"\n",
      "\n",
      "Untracked files:\n",
      "  (use \"git add <file>...\" to include in what will be committed)\n",
      "\t.ipynb_checkpoints/\n",
      "\t01.code/.ipynb_checkpoints/\n",
      "\tUntitled.ipynb\n",
      "\tchroma_db/\n",
      "\tdb/\n",
      "\n",
      "no changes added to commit (use \"git add\" and/or \"git commit -a\")\n"
     ]
    }
   ],
   "source": [
    "!git status"
   ]
  },
  {
   "cell_type": "code",
   "execution_count": 3,
   "id": "62b17850-6323-4acc-a093-0ebda05f8cf8",
   "metadata": {},
   "outputs": [
    {
     "name": "stdout",
     "output_type": "stream",
     "text": [
      "  main\n",
      "* uda\n"
     ]
    }
   ],
   "source": [
    "!git branch"
   ]
  },
  {
   "cell_type": "code",
   "execution_count": 4,
   "id": "e965c6a4-1461-4a4a-b810-9e4a51604649",
   "metadata": {},
   "outputs": [
    {
     "name": "stderr",
     "output_type": "stream",
     "text": [
      "error: Your local changes to the following files would be overwritten by checkout:\n",
      "\t01.code/RAG 肄붾뱶 commit v1.ipynb\n",
      "Please commit your changes or stash them before you switch branches.\n",
      "Aborting\n"
     ]
    }
   ],
   "source": [
    "!git checkout main"
   ]
  },
  {
   "cell_type": "code",
   "execution_count": 5,
   "id": "91326445-a54f-4601-917c-a3b1fea34710",
   "metadata": {},
   "outputs": [
    {
     "name": "stderr",
     "output_type": "stream",
     "text": [
      "error: cannot delete branch 'uda' used by worktree at 'C:/Users/umsh2/team_09'\n"
     ]
    }
   ],
   "source": [
    "!git branch -D uda"
   ]
  },
  {
   "cell_type": "code",
   "execution_count": 6,
   "id": "b5769a2d-c433-42bb-b26b-49b7c2c8486c",
   "metadata": {},
   "outputs": [
    {
     "name": "stdout",
     "output_type": "stream",
     "text": [
      "Saved working directory and index state WIP on uda: 30ce20a �떎�뒿 肄붾뱶 �뾽濡쒕뱶\n"
     ]
    },
    {
     "name": "stderr",
     "output_type": "stream",
     "text": [
      "warning: in the working copy of '01.code/RAG 肄붾뱶 commit v1.ipynb', LF will be replaced by CRLF the next time Git touches it\n"
     ]
    },
    {
     "name": "stdout",
     "output_type": "stream",
     "text": [
      "Your branch is up to date with 'origin/main'.\n"
     ]
    },
    {
     "name": "stderr",
     "output_type": "stream",
     "text": [
      "Switched to branch 'main'\n"
     ]
    }
   ],
   "source": [
    "!git stash\n",
    "!git checkout main"
   ]
  },
  {
   "cell_type": "code",
   "execution_count": 7,
   "id": "c5e16a34-d55c-4186-bc58-69603453dda6",
   "metadata": {},
   "outputs": [
    {
     "name": "stdout",
     "output_type": "stream",
     "text": [
      "Deleted branch uda (was 30ce20a).\n"
     ]
    }
   ],
   "source": [
    "!git branch -D uda"
   ]
  },
  {
   "cell_type": "code",
   "execution_count": 8,
   "id": "ee101a32-5f41-47f0-83a7-cf14b5e76192",
   "metadata": {},
   "outputs": [
    {
     "name": "stderr",
     "output_type": "stream",
     "text": [
      "To https://github.com/ihyoo/team_09.git\n",
      " - [deleted]         uda\n"
     ]
    }
   ],
   "source": [
    "!git push origin --delete uda"
   ]
  },
  {
   "cell_type": "code",
   "execution_count": 9,
   "id": "e2201d54-e472-4e33-8ddd-a2509f149b03",
   "metadata": {
    "scrolled": true
   },
   "outputs": [
    {
     "name": "stdout",
     "output_type": "stream",
     "text": [
      "Your branch is up to date with 'origin/main'.\n"
     ]
    },
    {
     "name": "stderr",
     "output_type": "stream",
     "text": [
      "Already on 'main'\n"
     ]
    }
   ],
   "source": [
    "!git checkout main"
   ]
  },
  {
   "cell_type": "code",
   "execution_count": 10,
   "id": "4530f136-a02f-4bad-9daf-68e7fd5b8d5d",
   "metadata": {},
   "outputs": [
    {
     "name": "stdout",
     "output_type": "stream",
     "text": [
      "Updating cb63a80..4fa4dfb\n",
      "Fast-forward\n",
      " .gitignore                                         |     1 +\n",
      " 00.data/00.test.txt                                |     1 -\n",
      " ...230_10\\353\\214\\200\\352\\263\\265\\354\\225\\275.pdf\" |   Bin 0 -> 725955 bytes\n",
      " ...61\\260\\352\\263\\265\\354\\225\\275\\354\\204\\234.pdf\" |   Bin 0 -> 10449157 bytes\n",
      " ...205_10\\353\\214\\200\\352\\263\\265\\354\\225\\275.pdf\" |   Bin 0 -> 207044 bytes\n",
      " ...61\\260\\352\\263\\265\\354\\225\\275\\354\\204\\234.pdf\" | 57665 +++++++++++++++++++\n",
      " 01.code/test.py                                    |     3 -\n",
      " ...217\\204\\354\\232\\260\\353\\257\\270_AI_Agent.ipynb\" |  7764 +++\n",
      " README.md                                          |     2 +-\n",
      " code/action/__init_.py                             |     0\n",
      " code/action/action_prompt.py                       |     0\n",
      " code/embedding/__init__.py                         |     0\n",
      " code/embedding/embedding.py                        |   187 +\n",
      " code/functions/__init__.py                         |     0\n",
      " code/functions/naver_news_api.py                   |    50 +\n",
      " ...06\\274\\341\\204\\216\\341\\205\\242\\341\\206\\250.pdf\" |   Bin 0 -> 134754 bytes\n",
      " ...06\\274\\341\\204\\216\\341\\205\\242\\341\\206\\250.pdf\" |   Bin 0 -> 240429 bytes\n",
      " ...06\\274\\341\\204\\216\\341\\205\\242\\341\\206\\250.pdf\" |   Bin 0 -> 207556 bytes\n",
      " ...06\\274\\341\\204\\216\\341\\205\\242\\341\\206\\250.pdf\" |   Bin 0 -> 231755 bytes\n",
      " ...05\\243\\341\\206\\250\\341\\204\\211\\341\\205\\245.pdf\" |   Bin 0 -> 239996 bytes\n",
      " ...05\\243\\341\\206\\250\\341\\204\\211\\341\\205\\245.pdf\" |   Bin 0 -> 11344646 bytes\n",
      " ...05\\243\\341\\206\\250\\341\\204\\211\\341\\205\\245.pdf\" |   Bin 0 -> 113986 bytes\n",
      " ...05\\243\\341\\206\\250\\341\\204\\211\\341\\205\\245.pdf\" |   Bin 0 -> 15710842 bytes\n",
      " ...05\\243\\341\\206\\250\\341\\204\\211\\341\\205\\245.pdf\" |   Bin 0 -> 2892512 bytes\n",
      " ...05\\243\\341\\206\\250\\341\\204\\211\\341\\205\\245.pdf\" |   Bin 0 -> 129236 bytes\n",
      " log_utils/__init__.py                              |     0\n",
      " log_utils/__pycache__/__init__.cpython-310.pyc     |   Bin 0 -> 164 bytes\n",
      " .../__pycache__/logger_config.cpython-310.pyc      |   Bin 0 -> 2033 bytes\n",
      " log_utils/logger_config.py                         |    59 +\n",
      " log_utils/logs/2025-06/app_2025-06-02.log          |   410 +\n",
      " log_utils/logs/2025-06/app_2025-06-03.log          |     0\n",
      " requirements.txt                                   |     4 +\n",
      " test                                               |     1 +\n",
      " .../data_level0.bin                                |   Bin 0 -> 6284000 bytes\n",
      " .../header.bin                                     |   Bin 0 -> 100 bytes\n",
      " .../length.bin                                     |   Bin 0 -> 4000 bytes\n",
      " .../link_lists.bin                                 |     0\n",
      " vectorDB/chroma_policy_db/chroma.sqlite3           |   Bin 0 -> 4046848 bytes\n",
      " 38 files changed, 66142 insertions(+), 5 deletions(-)\n",
      " create mode 100644 .gitignore\n",
      " delete mode 100644 00.data/00.test.txt\n",
      " create mode 100644 \"00.data/20250603_\\353\\214\\200\\355\\225\\234\\353\\257\\274\\352\\265\\255_\\352\\271\\200\\353\\254\\270\\354\\210\\230_10\\353\\214\\200\\352\\263\\265\\354\\225\\275.pdf\"\n",
      " create mode 100644 \"00.data/20250603_\\353\\214\\200\\355\\225\\234\\353\\257\\274\\352\\265\\255_\\352\\271\\200\\353\\254\\270\\354\\210\\230_\\354\\204\\240\\352\\261\\260\\352\\263\\265\\354\\225\\275\\354\\204\\234.pdf\"\n",
      " create mode 100644 \"00.data/20250603_\\353\\214\\200\\355\\225\\234\\353\\257\\274\\352\\265\\255_\\354\\235\\264\\354\\236\\254\\353\\252\\205_10\\353\\214\\200\\352\\263\\265\\354\\225\\275.pdf\"\n",
      " create mode 100644 \"00.data/20250603_\\353\\214\\200\\355\\225\\234\\353\\257\\274\\352\\265\\255_\\354\\235\\264\\354\\236\\254\\353\\252\\205_\\354\\204\\240\\352\\261\\260\\352\\263\\265\\354\\225\\275\\354\\204\\234.pdf\"\n",
      " delete mode 100644 01.code/test.py\n",
      " create mode 100644 \"01.code/\\353\\214\\200\\355\\206\\265\\353\\240\\271_\\354\\204\\240\\352\\261\\260_\\354\\240\\225\\353\\263\\264_\\353\\217\\204\\354\\232\\260\\353\\257\\270_AI_Agent.ipynb\"\n",
      " create mode 100644 code/action/__init_.py\n",
      " create mode 100644 code/action/action_prompt.py\n",
      " create mode 100644 code/embedding/__init__.py\n",
      " create mode 100644 code/embedding/embedding.py\n",
      " create mode 100644 code/functions/__init__.py\n",
      " create mode 100644 code/functions/naver_news_api.py\n",
      " create mode 100644 \"data/20250603_\\341\\204\\203\\341\\205\\242\\341\\204\\222\\341\\205\\241\\341\\206\\253\\341\\204\\206\\341\\205\\265\\341\\206\\253\\341\\204\\200\\341\\205\\256\\341\\206\\250_\\341\\204\\200\\341\\205\\242\\341\\204\\222\\341\\205\\247\\341\\206\\250\\341\\204\\211\\341\\205\\265\\341\\206\\253\\341\\204\\203\\341\\205\\241\\341\\206\\274_\\341\\204\\214\\341\\205\\245\\341\\206\\274\\341\\204\\203\\341\\205\\241\\341\\206\\274\\341\\204\\214\\341\\205\\245\\341\\206\\274\\341\\204\\216\\341\\205\\242\\341\\206\\250.pdf\"\n",
      " create mode 100644 \"data/20250603_\\341\\204\\203\\341\\205\\242\\341\\204\\222\\341\\205\\241\\341\\206\\253\\341\\204\\206\\341\\205\\265\\341\\206\\253\\341\\204\\200\\341\\205\\256\\341\\206\\250_\\341\\204\\200\\341\\205\\256\\341\\206\\250\\341\\204\\206\\341\\205\\265\\341\\206\\253\\341\\204\\213\\341\\205\\264\\341\\204\\222\\341\\205\\265\\341\\206\\267_\\341\\204\\214\\341\\205\\245\\341\\206\\274\\341\\204\\203\\341\\205\\241\\341\\206\\274\\341\\204\\214\\341\\205\\245\\341\\206\\274\\341\\204\\216\\341\\205\\242\\341\\206\\250.pdf\"\n",
      " create mode 100644 \"data/20250603_\\341\\204\\203\\341\\205\\242\\341\\204\\222\\341\\205\\241\\341\\206\\253\\341\\204\\206\\341\\205\\265\\341\\206\\253\\341\\204\\200\\341\\205\\256\\341\\206\\250_\\341\\204\\203\\341\\205\\245\\341\\204\\207\\341\\205\\256\\341\\206\\257\\341\\204\\213\\341\\205\\245\\341\\204\\206\\341\\205\\265\\341\\206\\253\\341\\204\\214\\341\\205\\256\\341\\204\\203\\341\\205\\241\\341\\206\\274_\\341\\204\\214\\341\\205\\245\\341\\206\\274\\341\\204\\203\\341\\205\\241\\341\\206\\274\\341\\204\\214\\341\\205\\245\\341\\206\\274\\341\\204\\216\\341\\205\\242\\341\\206\\250.pdf\"\n",
      " create mode 100644 \"data/20250603_\\341\\204\\203\\341\\205\\242\\341\\204\\222\\341\\205\\241\\341\\206\\253\\341\\204\\206\\341\\205\\265\\341\\206\\253\\341\\204\\200\\341\\205\\256\\341\\206\\250_\\341\\204\\206\\341\\205\\265\\341\\206\\253\\341\\204\\214\\341\\205\\256\\341\\204\\202\\341\\205\\251\\341\\204\\203\\341\\205\\251\\341\\206\\274\\341\\204\\203\\341\\205\\241\\341\\206\\274_\\341\\204\\214\\341\\205\\245\\341\\206\\274\\341\\204\\203\\341\\205\\241\\341\\206\\274\\341\\204\\214\\341\\205\\245\\341\\206\\274\\341\\204\\216\\341\\205\\242\\341\\206\\250.pdf\"\n",
      " create mode 100644 \"data/20250604_\\341\\204\\203\\341\\205\\242\\341\\204\\222\\341\\205\\241\\341\\206\\253\\341\\204\\206\\341\\205\\265\\341\\206\\253\\341\\204\\200\\341\\205\\256\\341\\206\\250_\\341\\204\\200\\341\\205\\257\\341\\206\\253\\341\\204\\213\\341\\205\\247\\341\\206\\274\\341\\204\\200\\341\\205\\256\\341\\206\\250_\\341\\204\\211\\341\\205\\245\\341\\206\\253\\341\\204\\200\\341\\205\\245\\341\\204\\200\\341\\205\\251\\341\\206\\274\\341\\204\\213\\341\\205\\243\\341\\206\\250\\341\\204\\211\\341\\205\\245.pdf\"\n",
      " create mode 100644 \"data/20250604_\\341\\204\\203\\341\\205\\242\\341\\204\\222\\341\\205\\241\\341\\206\\253\\341\\204\\206\\341\\205\\265\\341\\206\\253\\341\\204\\200\\341\\205\\256\\341\\206\\250_\\341\\204\\200\\341\\205\\265\\341\\206\\267\\341\\204\\206\\341\\205\\256\\341\\206\\253\\341\\204\\211\\341\\205\\256_\\341\\204\\211\\341\\205\\245\\341\\206\\253\\341\\204\\200\\341\\205\\245\\341\\204\\200\\341\\205\\251\\341\\206\\274\\341\\204\\213\\341\\205\\243\\341\\206\\250\\341\\204\\211\\341\\205\\245.pdf\"\n",
      " create mode 100644 \"data/20250604_\\341\\204\\203\\341\\205\\242\\341\\204\\222\\341\\205\\241\\341\\206\\253\\341\\204\\206\\341\\205\\265\\341\\206\\253\\341\\204\\200\\341\\205\\256\\341\\206\\250_\\341\\204\\211\\341\\205\\251\\341\\206\\274\\341\\204\\214\\341\\205\\265\\341\\206\\253\\341\\204\\222\\341\\205\\251_\\341\\204\\211\\341\\205\\245\\341\\206\\253\\341\\204\\200\\341\\205\\245\\341\\204\\200\\341\\205\\251\\341\\206\\274\\341\\204\\213\\341\\205\\243\\341\\206\\250\\341\\204\\211\\341\\205\\245.pdf\"\n",
      " create mode 100644 \"data/20250604_\\341\\204\\203\\341\\205\\242\\341\\204\\222\\341\\205\\241\\341\\206\\253\\341\\204\\206\\341\\205\\265\\341\\206\\253\\341\\204\\200\\341\\205\\256\\341\\206\\250_\\341\\204\\213\\341\\205\\265\\341\\204\\214\\341\\205\\242\\341\\204\\206\\341\\205\\247\\341\\206\\274_\\341\\204\\211\\341\\205\\245\\341\\206\\253\\341\\204\\200\\341\\205\\245\\341\\204\\200\\341\\205\\251\\341\\206\\274\\341\\204\\213\\341\\205\\243\\341\\206\\250\\341\\204\\211\\341\\205\\245.pdf\"\n",
      " create mode 100644 \"data/20250604_\\341\\204\\203\\341\\205\\242\\341\\204\\222\\341\\205\\241\\341\\206\\253\\341\\204\\206\\341\\205\\265\\341\\206\\253\\341\\204\\200\\341\\205\\256\\341\\206\\250_\\341\\204\\213\\341\\205\\265\\341\\204\\214\\341\\205\\256\\341\\206\\253\\341\\204\\211\\341\\205\\245\\341\\206\\250_\\341\\204\\211\\341\\205\\245\\341\\206\\253\\341\\204\\200\\341\\205\\245\\341\\204\\200\\341\\205\\251\\341\\206\\274\\341\\204\\213\\341\\205\\243\\341\\206\\250\\341\\204\\211\\341\\205\\245.pdf\"\n",
      " create mode 100644 \"data/20250604_\\341\\204\\203\\341\\205\\242\\341\\204\\222\\341\\205\\241\\341\\206\\253\\341\\204\\206\\341\\205\\265\\341\\206\\253\\341\\204\\200\\341\\205\\256\\341\\206\\250_\\341\\204\\222\\341\\205\\252\\341\\206\\274\\341\\204\\200\\341\\205\\255\\341\\204\\213\\341\\205\\241\\341\\206\\253_\\341\\204\\211\\341\\205\\245\\341\\206\\253\\341\\204\\200\\341\\205\\245\\341\\204\\200\\341\\205\\251\\341\\206\\274\\341\\204\\213\\341\\205\\243\\341\\206\\250\\341\\204\\211\\341\\205\\245.pdf\"\n",
      " create mode 100644 log_utils/__init__.py\n",
      " create mode 100644 log_utils/__pycache__/__init__.cpython-310.pyc\n",
      " create mode 100644 log_utils/__pycache__/logger_config.cpython-310.pyc\n",
      " create mode 100644 log_utils/logger_config.py\n",
      " create mode 100644 log_utils/logs/2025-06/app_2025-06-02.log\n",
      " create mode 100644 log_utils/logs/2025-06/app_2025-06-03.log\n",
      " create mode 100644 requirements.txt\n",
      " create mode 100644 test\n",
      " create mode 100644 vectorDB/chroma_policy_db/740f1f4f-6630-4a43-bfb3-d5ec7fd0d82c/data_level0.bin\n",
      " create mode 100644 vectorDB/chroma_policy_db/740f1f4f-6630-4a43-bfb3-d5ec7fd0d82c/header.bin\n",
      " create mode 100644 vectorDB/chroma_policy_db/740f1f4f-6630-4a43-bfb3-d5ec7fd0d82c/length.bin\n",
      " create mode 100644 vectorDB/chroma_policy_db/740f1f4f-6630-4a43-bfb3-d5ec7fd0d82c/link_lists.bin\n",
      " create mode 100644 vectorDB/chroma_policy_db/chroma.sqlite3\n"
     ]
    },
    {
     "name": "stderr",
     "output_type": "stream",
     "text": [
      "From https://github.com/ihyoo/team_09\n",
      " * branch            main       -> FETCH_HEAD\n",
      "   cb63a80..4fa4dfb  main       -> origin/main\n"
     ]
    }
   ],
   "source": [
    "!git pull origin main"
   ]
  },
  {
   "cell_type": "code",
   "execution_count": 11,
   "id": "d5163e9f-0716-491d-b26a-e36c93e9dea1",
   "metadata": {},
   "outputs": [
    {
     "name": "stderr",
     "output_type": "stream",
     "text": [
      "Switched to a new branch 'daan'\n"
     ]
    }
   ],
   "source": [
    "!git checkout -b daan"
   ]
  },
  {
   "cell_type": "code",
   "execution_count": null,
   "id": "997811df-0d38-4a51-9c2c-b7e0903296aa",
   "metadata": {},
   "outputs": [],
   "source": [
    "test"
   ]
  }
 ],
 "metadata": {
  "kernelspec": {
   "display_name": "Python [conda env:base] *",
   "language": "python",
   "name": "conda-base-py"
  },
  "language_info": {
   "codemirror_mode": {
    "name": "ipython",
    "version": 3
   },
   "file_extension": ".py",
   "mimetype": "text/x-python",
   "name": "python",
   "nbconvert_exporter": "python",
   "pygments_lexer": "ipython3",
   "version": "3.12.7"
  }
 },
 "nbformat": 4,
 "nbformat_minor": 5
}
