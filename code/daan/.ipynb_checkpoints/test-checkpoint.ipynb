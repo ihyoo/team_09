{
 "cells": [
  {
   "cell_type": "code",
   "execution_count": 15,
   "id": "4f589eb4-876a-4439-9cfa-983fb49ec42f",
   "metadata": {},
   "outputs": [
    {
     "data": {
      "text/plain": [
       "'C:\\\\Users\\\\umsh2\\\\team_09'"
      ]
     },
     "execution_count": 15,
     "metadata": {},
     "output_type": "execute_result"
    }
   ],
   "source": [
    "import os\n",
    "os.getcwd()"
   ]
  },
  {
   "cell_type": "code",
   "execution_count": 11,
   "id": "3efe7618-d587-465b-9eff-4ca828d314d8",
   "metadata": {},
   "outputs": [
    {
     "name": "stderr",
     "output_type": "stream",
     "text": [
      "warning: in the working copy of 'code/daan/RAG_Agent_step7_8.ipynb', LF will be replaced by CRLF the next time Git touches it\n"
     ]
    }
   ],
   "source": [
    "!git add \"code/daan/RAG_Agent_step7_8.ipynb\""
   ]
  },
  {
   "cell_type": "code",
   "execution_count": 12,
   "id": "83128c93-8b27-4a8b-9a0c-f2cc703a0158",
   "metadata": {},
   "outputs": [
    {
     "name": "stdout",
     "output_type": "stream",
     "text": [
      "[daan 2573b47] daan_7-8�떒怨� �옉�뾽 �닔�뻾\n",
      " 1 file changed, 3140 insertions(+)\n",
      " create mode 100644 code/daan/RAG_Agent_step7_8.ipynb\n"
     ]
    }
   ],
   "source": [
    "!git commit -m \"daan_7-8단계 작업 수행\""
   ]
  },
  {
   "cell_type": "code",
   "execution_count": 13,
   "id": "60f15e4f-5a37-46d3-a050-66a1f35c14e5",
   "metadata": {},
   "outputs": [
    {
     "name": "stderr",
     "output_type": "stream",
     "text": [
      "To https://github.com/ihyoo/team_09.git\n",
      " ! [rejected]        daan -> daan (fetch first)\n",
      "error: failed to push some refs to 'https://github.com/ihyoo/team_09.git'\n",
      "hint: Updates were rejected because the remote contains work that you do not\n",
      "hint: have locally. This is usually caused by another repository pushing to\n",
      "hint: the same ref. If you want to integrate the remote changes, use\n",
      "hint: 'git pull' before pushing again.\n",
      "hint: See the 'Note about fast-forwards' in 'git push --help' for details.\n"
     ]
    }
   ],
   "source": [
    "!git push"
   ]
  },
  {
   "cell_type": "code",
   "execution_count": 2,
   "id": "9f994aea-d6a0-4407-91b9-a8997ab64349",
   "metadata": {},
   "outputs": [
    {
     "name": "stdout",
     "output_type": "stream",
     "text": [
      " C 드라이브의 볼륨: Windows\n",
      " 볼륨 일련 번호: D498-72DF\n",
      "\n",
      " C:\\Users\\umsh2\\team_09\\code\\daan\\code 디렉터리\n",
      "\n"
     ]
    },
    {
     "name": "stderr",
     "output_type": "stream",
     "text": [
      "파일을 찾을 수 없습니다.\n"
     ]
    }
   ],
   "source": [
    "!dir \"code/daan\""
   ]
  },
  {
   "cell_type": "code",
   "execution_count": 3,
   "id": "fd51cdc4-8bd4-472c-8750-d7b6d8539062",
   "metadata": {},
   "outputs": [
    {
     "name": "stdout",
     "output_type": "stream",
     "text": [
      "C:\\Users\\umsh2\\team_09\\code\\daan\\대통령_선거_정보_도우미_AI_Agent (1).ipynb\n",
      "C:\\Users\\umsh2\\team_09\\code\\daan\\대통령_선거_정보_도우미_AI_Agent (7-8단계).ipynb\n",
      "C:\\Users\\umsh2\\team_09\\code\\daan\\.ipynb_checkpoints\\대통령_선거_정보_도우미_AI_Agent (1)-checkpoint.ipynb\n",
      "C:\\Users\\umsh2\\team_09\\code\\daan\\.ipynb_checkpoints\\대통령_선거_정보_도우미_AI_Agent (7-8단계)-checkpoint.ipynb\n"
     ]
    }
   ],
   "source": [
    "!dir /s /b | findstr \"도우미\""
   ]
  },
  {
   "cell_type": "code",
   "execution_count": 6,
   "id": "80300e15-7f8c-45d5-8210-568f4646ecdd",
   "metadata": {},
   "outputs": [
    {
     "name": "stdout",
     "output_type": "stream",
     "text": [
      "C:\\Users\\umsh2\\team_09\n"
     ]
    }
   ],
   "source": [
    "%cd C:/Users/umsh2/team_09"
   ]
  },
  {
   "cell_type": "code",
   "execution_count": 7,
   "id": "94931562-504a-4f72-a334-842fb4924489",
   "metadata": {},
   "outputs": [
    {
     "name": "stdout",
     "output_type": "stream",
     "text": [
      "* daan\n",
      "  main\n"
     ]
    }
   ],
   "source": [
    "!git branch"
   ]
  },
  {
   "cell_type": "code",
   "execution_count": 8,
   "id": "b31260d3-f465-4a8c-86c3-d0511229265b",
   "metadata": {},
   "outputs": [
    {
     "name": "stdout",
     "output_type": "stream",
     "text": [
      "M\t\"01.code/\\353\\214\\200\\355\\206\\265\\353\\240\\271_\\354\\204\\240\\352\\261\\260_\\354\\240\\225\\353\\263\\264_\\353\\217\\204\\354\\232\\260\\353\\257\\270_AI_Agent.ipynb\"\n",
      "Your branch is up to date with 'origin/daan'.\n"
     ]
    },
    {
     "name": "stderr",
     "output_type": "stream",
     "text": [
      "Already on 'daan'\n"
     ]
    }
   ],
   "source": [
    "!git checkout daan"
   ]
  },
  {
   "cell_type": "code",
   "execution_count": null,
   "id": "96819f20-fff3-4e3a-a5ea-0c5f726e0abe",
   "metadata": {},
   "outputs": [],
   "source": []
  }
 ],
 "metadata": {
  "kernelspec": {
   "display_name": "Python [conda env:base] *",
   "language": "python",
   "name": "conda-base-py"
  },
  "language_info": {
   "codemirror_mode": {
    "name": "ipython",
    "version": 3
   },
   "file_extension": ".py",
   "mimetype": "text/x-python",
   "name": "python",
   "nbconvert_exporter": "python",
   "pygments_lexer": "ipython3",
   "version": "3.12.7"
  }
 },
 "nbformat": 4,
 "nbformat_minor": 5
}
